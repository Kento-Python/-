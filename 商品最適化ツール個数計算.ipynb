{
 "cells": [
  {
   "cell_type": "code",
   "execution_count": null,
   "id": "73744474",
   "metadata": {},
   "outputs": [],
   "source": []
  },
  {
   "cell_type": "markdown",
   "id": "6541c150",
   "metadata": {},
   "source": [
    "#MAY NEED TO INSTALL THE FOLLOWING LIBRARIES IN YOUR Google Cloud ENVIRONMENT \n",
    "pip install pandas pymysql flask prophet\n"
   ]
  },
  {
   "cell_type": "code",
   "execution_count": 4,
   "id": "04e19bca",
   "metadata": {},
   "outputs": [
    {
     "name": "stdout",
     "output_type": "stream",
     "text": [
      " * Serving Flask app '__main__'\n",
      " * Debug mode: on\n"
     ]
    },
    {
     "name": "stderr",
     "output_type": "stream",
     "text": [
      "WARNING: This is a development server. Do not use it in a production deployment. Use a production WSGI server instead.\n",
      " * Running on http://127.0.0.1:5000\n",
      "Press CTRL+C to quit\n",
      " * Restarting with watchdog (windowsapi)\n"
     ]
    },
    {
     "ename": "SystemExit",
     "evalue": "1",
     "output_type": "error",
     "traceback": [
      "An exception has occurred, use %tb to see the full traceback.\n",
      "\u001b[1;31mSystemExit\u001b[0m\u001b[1;31m:\u001b[0m 1\n"
     ]
    },
    {
     "name": "stderr",
     "output_type": "stream",
     "text": [
      "C:\\Users\\21chu\\anaconda3\\Lib\\site-packages\\IPython\\core\\interactiveshell.py:3534: UserWarning: To exit: use 'exit', 'quit', or Ctrl-D.\n",
      "  warn(\"To exit: use 'exit', 'quit', or Ctrl-D.\", stacklevel=1)\n"
     ]
    }
   ],
   "source": [
    "from flask import Flask, request, jsonify\n",
    "import pymysql\n",
    "import pandas as pd\n",
    "from prophet import Prophet\n",
    "\n",
    "app = Flask(__name__)\n",
    "\n",
    "# Function to connect to Cloud SQL\n",
    "def db_connection():\n",
    "    return pymysql.connect(\n",
    "        host=\"your-cloudsql-ip\",\n",
    "        user=\"your-user\",\n",
    "        password=\"your-password\",\n",
    "        database=\"your-database\",\n",
    "        cursorclass=pymysql.cursors.DictCursor  # 辞書系で返す\n",
    "    ) # GoogleCloudで設定した名前・ユーザーなどに変える\n",
    "\n",
    "# Function to fetch historical sales data\n",
    "def get_sales_data(product_id):\n",
    "    conn = get_db_connection()\n",
    "    cursor = conn.cursor()\n",
    "    \n",
    "    # Fetch past sales for the given product\n",
    "    cursor.execute(\"\"\"\n",
    "        USE product_management\n",
    "        SELECT date, quantity  #MySQLに日にちのコラムを足す\n",
    "        FROM stock_transaction\n",
    "        WHERE product_id = %s\n",
    "        ORDER BY date \n",
    "    \"\"\", (product_id,))\n",
    "    \n",
    "    sales = cursor.fetchall()\n",
    "    conn.close()\n",
    "    \n",
    "    # Convert to Pandas DataFrame\n",
    "    df = pd.DataFrame(sales)\n",
    "    df.rename(columns={\"date\": \"ds\", \"quantity\": \"y\"}, inplace=True)\n",
    "    \n",
    "    return df\n",
    "\n",
    "# Function to forecast next week's order quantity\n",
    "def forecast_next_order(product_id):\n",
    "    # Get sales data\n",
    "    df = get_sales_data(product_id)\n",
    "    \n",
    "    if df.empty:\n",
    "        return None  # No sales data available\n",
    "    \n",
    "    # Initialize Prophet model\n",
    "    model = Prophet()\n",
    "    model.fit(df)\n",
    "\n",
    "    # Predict for the next 7 days\n",
    "    future = model.make_future_dataframe(periods=7)\n",
    "    forecast = model.predict(future)\n",
    "\n",
    "    # Get next week's predicted sales\n",
    "    next_week_forecast = forecast.tail(7)[\"yhat\"].sum()\n",
    "    \n",
    "    # Apply a safety stock factor (adjust as needed)\n",
    "    suggested_order_qty = round(next_week_forecast * 1.2)\n",
    "\n",
    "    return suggested_order_qty\n",
    "\n",
    "# API Endpoint for AppSheet\n",
    "@app.route(\"/forecast-order\", methods=[\"POST\"])\n",
    "def forecast_order():\n",
    "    data = request.json\n",
    "    product_id = data.get(\"product_id\")\n",
    "\n",
    "    if not product_id:\n",
    "        return jsonify({\"error\": \"Product ID is required\"}), 400\n",
    "\n",
    "    # Run forecast\n",
    "    suggested_order = forecast_next_order(product_id)\n",
    "\n",
    "    if suggested_order is None:\n",
    "        return jsonify({\"error\": \"No sales data available for this product\"}), 404\n",
    "\n",
    "    # Update Cloud SQL with the forecasted order quantity\n",
    "    conn = get_db_connection()\n",
    "    cursor = conn.cursor()\n",
    "    cursor.execute(\"\"\"\n",
    "        UPDATE inventory \n",
    "        SET suggested_order = %s \n",
    "        WHERE product_id = %s\n",
    "    \"\"\", (suggested_order, product_id))\n",
    "    #make a new SQL column in the stock in ==\n",
    "    conn.commit()\n",
    "    conn.close()\n",
    "\n",
    "    return jsonify({\"product_id\": product_id, \"suggested_order\": suggested_order})\n",
    "\n",
    "if __name__ == \"__main__\":\n",
    "    app.run(debug=True)\n"
   ]
  }
 ],
 "metadata": {
  "kernelspec": {
   "display_name": "Python 3 (ipykernel)",
   "language": "python",
   "name": "python3"
  },
  "language_info": {
   "codemirror_mode": {
    "name": "ipython",
    "version": 3
   },
   "file_extension": ".py",
   "mimetype": "text/x-python",
   "name": "python",
   "nbconvert_exporter": "python",
   "pygments_lexer": "ipython3",
   "version": "3.11.5"
  }
 },
 "nbformat": 4,
 "nbformat_minor": 5
}
